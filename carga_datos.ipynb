{
 "cells": [
  {
   "cell_type": "code",
   "execution_count": 1,
   "metadata": {},
   "outputs": [],
   "source": [
    "import pandas as pd"
   ]
  },
  {
   "cell_type": "code",
   "execution_count": 2,
   "metadata": {},
   "outputs": [
    {
     "name": "stdout",
     "output_type": "stream",
     "text": [
      "2021-1.xlsx 2021-3.xlsx 2021-5.xlsx 2021-7.xlsx\n",
      "2021-2.xlsx 2021-4.xlsx 2021-6.xlsx\n"
     ]
    }
   ],
   "source": [
    "!ls datos"
   ]
  },
  {
   "cell_type": "code",
   "execution_count": 33,
   "metadata": {},
   "outputs": [],
   "source": [
    "def load_data():\n",
    "    archivos = !ls datos\n",
    "    datafs = {}\n",
    "    for file in archivos:\n",
    "        datafs[file] = pd.read_excel(f'datos/{file}', skiprows=3)\n",
    "\n",
    "    df = pd.concat(datafs)\n",
    "    df = df.reset_index(drop=True)\n",
    "    df.columns = [m.lower().replace(' ', '_') for m in df.columns]\n",
    "    df.drop(columns=['hora_25', 'total'], inplace=True)\n",
    "    df.dropna(how='any', inplace=True)\n",
    "    df = df.melt(id_vars=['central', 'llave', 'grupo_reporte', 'tipo', 'subtipo', 'fecha'],\n",
    "       value_vars=[f'hora_{h}' for h in range(1,25)])\n",
    "\n",
    "    df['variable'] = df['variable'].str.replace('hora_','')\n",
    "    df.rename(columns={'variable': 'hora'}, inplace=True)\n",
    "    return df"
   ]
  },
  {
   "cell_type": "code",
   "execution_count": 34,
   "metadata": {},
   "outputs": [],
   "source": [
    "df = load_data()"
   ]
  },
  {
   "cell_type": "code",
   "execution_count": 35,
   "metadata": {},
   "outputs": [
    {
     "data": {
      "text/html": [
       "<div>\n",
       "<style scoped>\n",
       "    .dataframe tbody tr th:only-of-type {\n",
       "        vertical-align: middle;\n",
       "    }\n",
       "\n",
       "    .dataframe tbody tr th {\n",
       "        vertical-align: top;\n",
       "    }\n",
       "\n",
       "    .dataframe thead th {\n",
       "        text-align: right;\n",
       "    }\n",
       "</style>\n",
       "<table border=\"1\" class=\"dataframe\">\n",
       "  <thead>\n",
       "    <tr style=\"text-align: right;\">\n",
       "      <th></th>\n",
       "      <th>central</th>\n",
       "      <th>llave</th>\n",
       "      <th>grupo_reporte</th>\n",
       "      <th>tipo</th>\n",
       "      <th>subtipo</th>\n",
       "      <th>fecha</th>\n",
       "      <th>hora</th>\n",
       "      <th>value</th>\n",
       "    </tr>\n",
       "  </thead>\n",
       "  <tbody>\n",
       "    <tr>\n",
       "      <th>0</th>\n",
       "      <td>GEO CERRO PABELLON</td>\n",
       "      <td>G1A</td>\n",
       "      <td>Geo. Cerro Pabellón</td>\n",
       "      <td>Geotérmica</td>\n",
       "      <td>Geotérmica</td>\n",
       "      <td>2021-01-01</td>\n",
       "      <td>1</td>\n",
       "      <td>17.4843</td>\n",
       "    </tr>\n",
       "    <tr>\n",
       "      <th>1</th>\n",
       "      <td>GEO CERRO PABELLON</td>\n",
       "      <td>G1A</td>\n",
       "      <td>Geo. Cerro Pabellón</td>\n",
       "      <td>Geotérmica</td>\n",
       "      <td>Geotérmica</td>\n",
       "      <td>2021-01-02</td>\n",
       "      <td>1</td>\n",
       "      <td>19.2687</td>\n",
       "    </tr>\n",
       "    <tr>\n",
       "      <th>2</th>\n",
       "      <td>GEO CERRO PABELLON</td>\n",
       "      <td>G1A</td>\n",
       "      <td>Geo. Cerro Pabellón</td>\n",
       "      <td>Geotérmica</td>\n",
       "      <td>Geotérmica</td>\n",
       "      <td>2021-01-03</td>\n",
       "      <td>1</td>\n",
       "      <td>20.4188</td>\n",
       "    </tr>\n",
       "    <tr>\n",
       "      <th>3</th>\n",
       "      <td>GEO CERRO PABELLON</td>\n",
       "      <td>G1A</td>\n",
       "      <td>Geo. Cerro Pabellón</td>\n",
       "      <td>Geotérmica</td>\n",
       "      <td>Geotérmica</td>\n",
       "      <td>2021-01-04</td>\n",
       "      <td>1</td>\n",
       "      <td>21.0686</td>\n",
       "    </tr>\n",
       "    <tr>\n",
       "      <th>4</th>\n",
       "      <td>GEO CERRO PABELLON</td>\n",
       "      <td>G1A</td>\n",
       "      <td>Geo. Cerro Pabellón</td>\n",
       "      <td>Geotérmica</td>\n",
       "      <td>Geotérmica</td>\n",
       "      <td>2021-01-05</td>\n",
       "      <td>1</td>\n",
       "      <td>20.2750</td>\n",
       "    </tr>\n",
       "    <tr>\n",
       "      <th>...</th>\n",
       "      <td>...</td>\n",
       "      <td>...</td>\n",
       "      <td>...</td>\n",
       "      <td>...</td>\n",
       "      <td>...</td>\n",
       "      <td>...</td>\n",
       "      <td>...</td>\n",
       "      <td>...</td>\n",
       "    </tr>\n",
       "    <tr>\n",
       "      <th>3376987</th>\n",
       "      <td>TER YUNGAY</td>\n",
       "      <td>Yungay 4</td>\n",
       "      <td>Yungay 4</td>\n",
       "      <td>Térmica</td>\n",
       "      <td>Diésel</td>\n",
       "      <td>2021-07-03</td>\n",
       "      <td>24</td>\n",
       "      <td>0.0000</td>\n",
       "    </tr>\n",
       "    <tr>\n",
       "      <th>3376988</th>\n",
       "      <td>TER YUNGAY</td>\n",
       "      <td>Yungay 4</td>\n",
       "      <td>Yungay 4</td>\n",
       "      <td>Térmica</td>\n",
       "      <td>Diésel</td>\n",
       "      <td>2021-07-04</td>\n",
       "      <td>24</td>\n",
       "      <td>0.0000</td>\n",
       "    </tr>\n",
       "    <tr>\n",
       "      <th>3376989</th>\n",
       "      <td>TER YUNGAY</td>\n",
       "      <td>Yungay 4</td>\n",
       "      <td>Yungay 4</td>\n",
       "      <td>Térmica</td>\n",
       "      <td>Diésel</td>\n",
       "      <td>2021-07-05</td>\n",
       "      <td>24</td>\n",
       "      <td>0.0000</td>\n",
       "    </tr>\n",
       "    <tr>\n",
       "      <th>3376990</th>\n",
       "      <td>TER YUNGAY</td>\n",
       "      <td>Yungay 4</td>\n",
       "      <td>Yungay 4</td>\n",
       "      <td>Térmica</td>\n",
       "      <td>Diésel</td>\n",
       "      <td>2021-07-06</td>\n",
       "      <td>24</td>\n",
       "      <td>0.0000</td>\n",
       "    </tr>\n",
       "    <tr>\n",
       "      <th>3376991</th>\n",
       "      <td>TER YUNGAY</td>\n",
       "      <td>Yungay 4</td>\n",
       "      <td>Yungay 4</td>\n",
       "      <td>Térmica</td>\n",
       "      <td>Diésel</td>\n",
       "      <td>2021-07-07</td>\n",
       "      <td>24</td>\n",
       "      <td>0.0000</td>\n",
       "    </tr>\n",
       "  </tbody>\n",
       "</table>\n",
       "<p>3376992 rows × 8 columns</p>\n",
       "</div>"
      ],
      "text/plain": [
       "                    central     llave        grupo_reporte        tipo  \\\n",
       "0        GEO CERRO PABELLON       G1A  Geo. Cerro Pabellón  Geotérmica   \n",
       "1        GEO CERRO PABELLON       G1A  Geo. Cerro Pabellón  Geotérmica   \n",
       "2        GEO CERRO PABELLON       G1A  Geo. Cerro Pabellón  Geotérmica   \n",
       "3        GEO CERRO PABELLON       G1A  Geo. Cerro Pabellón  Geotérmica   \n",
       "4        GEO CERRO PABELLON       G1A  Geo. Cerro Pabellón  Geotérmica   \n",
       "...                     ...       ...                  ...         ...   \n",
       "3376987          TER YUNGAY  Yungay 4             Yungay 4     Térmica   \n",
       "3376988          TER YUNGAY  Yungay 4             Yungay 4     Térmica   \n",
       "3376989          TER YUNGAY  Yungay 4             Yungay 4     Térmica   \n",
       "3376990          TER YUNGAY  Yungay 4             Yungay 4     Térmica   \n",
       "3376991          TER YUNGAY  Yungay 4             Yungay 4     Térmica   \n",
       "\n",
       "            subtipo       fecha hora    value  \n",
       "0        Geotérmica  2021-01-01    1  17.4843  \n",
       "1        Geotérmica  2021-01-02    1  19.2687  \n",
       "2        Geotérmica  2021-01-03    1  20.4188  \n",
       "3        Geotérmica  2021-01-04    1  21.0686  \n",
       "4        Geotérmica  2021-01-05    1  20.2750  \n",
       "...             ...         ...  ...      ...  \n",
       "3376987      Diésel  2021-07-03   24   0.0000  \n",
       "3376988      Diésel  2021-07-04   24   0.0000  \n",
       "3376989      Diésel  2021-07-05   24   0.0000  \n",
       "3376990      Diésel  2021-07-06   24   0.0000  \n",
       "3376991      Diésel  2021-07-07   24   0.0000  \n",
       "\n",
       "[3376992 rows x 8 columns]"
      ]
     },
     "execution_count": 35,
     "metadata": {},
     "output_type": "execute_result"
    }
   ],
   "source": [
    "df"
   ]
  },
  {
   "cell_type": "code",
   "execution_count": 36,
   "metadata": {},
   "outputs": [
    {
     "data": {
      "text/plain": [
       "array(['Geotérmica', 'Hidráulica', 'Eólica', 'Solar', 'Térmica'],\n",
       "      dtype=object)"
      ]
     },
     "execution_count": 36,
     "metadata": {},
     "output_type": "execute_result"
    }
   ],
   "source": [
    "df.tipo.unique()"
   ]
  }
 ],
 "metadata": {
  "kernelspec": {
   "display_name": "Python [conda env:pipe_basico] *",
   "language": "python",
   "name": "conda-env-pipe_basico-py"
  },
  "language_info": {
   "codemirror_mode": {
    "name": "ipython",
    "version": 3
   },
   "file_extension": ".py",
   "mimetype": "text/x-python",
   "name": "python",
   "nbconvert_exporter": "python",
   "pygments_lexer": "ipython3",
   "version": "3.7.8"
  }
 },
 "nbformat": 4,
 "nbformat_minor": 4
}
