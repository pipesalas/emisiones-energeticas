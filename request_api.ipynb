{
 "cells": [
  {
   "cell_type": "code",
   "execution_count": 41,
   "metadata": {},
   "outputs": [],
   "source": [
    "import requests\n",
    "import json\n",
    "import pandas as pd"
   ]
  },
  {
   "cell_type": "code",
   "execution_count": 118,
   "metadata": {},
   "outputs": [
    {
     "data": {
      "text/plain": [
       "{'result': {'fNum': 204.0,\n",
       "  'fStr': 'No data found in cache or data source for 278031.',\n",
       "  'fType': 'ERROR'},\n",
       " 'status': 3,\n",
       " 'description': 'Generación bruta horaria, en MWh, para el año, mes, día y hora seleccionado',\n",
       " 'parameters': [{'is_mandatory': True,\n",
       "   'description': '',\n",
       "   'format': '',\n",
       "   'default': '2021',\n",
       "   'max_value': '',\n",
       "   'min_value': '',\n",
       "   'max_length_string': None,\n",
       "   'id': 14828,\n",
       "   'valid_values': '2014,2015,2016,2017,2018,2019,2020,2021',\n",
       "   'position': 0,\n",
       "   'type': 'NUMERO',\n",
       "   'slug': 'ano',\n",
       "   'name': 'Año'},\n",
       "  {'is_mandatory': True,\n",
       "   'description': '',\n",
       "   'format': '',\n",
       "   'default': '1',\n",
       "   'max_value': None,\n",
       "   'min_value': None,\n",
       "   'max_length_string': None,\n",
       "   'id': 14829,\n",
       "   'valid_values': '1,2,3,4,5,6,7,8,9,10,11,12',\n",
       "   'position': 1,\n",
       "   'type': 'NUMERO',\n",
       "   'slug': 'mes',\n",
       "   'name': 'Mes'},\n",
       "  {'is_mandatory': True,\n",
       "   'description': '',\n",
       "   'format': '',\n",
       "   'default': '1',\n",
       "   'max_value': None,\n",
       "   'min_value': None,\n",
       "   'max_length_string': None,\n",
       "   'id': 14830,\n",
       "   'valid_values': '1,2,3,4,5,6,7,8,9,10,11,12,13,14,15,16,17,18,19,20,21,22,23,24,25,26,27,28,29,30,31',\n",
       "   'position': 2,\n",
       "   'type': 'NUMERO',\n",
       "   'slug': 'dia',\n",
       "   'name': 'Día'},\n",
       "  {'is_mandatory': True,\n",
       "   'description': '',\n",
       "   'format': '',\n",
       "   'default': '1',\n",
       "   'max_value': None,\n",
       "   'min_value': None,\n",
       "   'max_length_string': None,\n",
       "   'id': 14831,\n",
       "   'valid_values': '1,2,3,4,5,6,7,8,9,10,11,12,13,14,15,16,17,18,19,20,21,22,23,24',\n",
       "   'position': 3,\n",
       "   'type': 'NUMERO',\n",
       "   'slug': 'hora',\n",
       "   'name': 'Hora'}],\n",
       " 'tags': ['horario', 'sen', 'generación'],\n",
       " 'last_revision_id': 278031,\n",
       " 'timestamp': None,\n",
       " 'created_at': '2020-10-02T17:23:00Z',\n",
       " 'title': 'Generación Bruta Horaria SEN',\n",
       " 'modified_at': '2021-06-22T19:55:12Z',\n",
       " 'category_id': 41125,\n",
       " 'methods': None,\n",
       " 'sources': [{'source__id': 1775,\n",
       "   'source__name': 'Coordinador Eléctrico Nacional',\n",
       "   'source__url': 'https://www.coordinadorelectrico.cl/'}],\n",
       " 'total_revisions': 1,\n",
       " 'frequency': 'monthly',\n",
       " 'link': None,\n",
       " 'user': 'cne',\n",
       " 'status_str': None,\n",
       " 'guid': 'GENER-BRUTA-HORAR-SEN',\n",
       " 'category_name': 'Electricidad',\n",
       " 'endpoint': 'http://data.elastic.junar.com:9200/_sql?format=json'}"
      ]
     },
     "execution_count": 118,
     "metadata": {},
     "output_type": "execute_result"
    }
   ],
   "source": [
    "res"
   ]
  },
  {
   "cell_type": "code",
   "execution_count": 124,
   "metadata": {},
   "outputs": [
    {
     "ename": "TypeError",
     "evalue": "unhashable type: 'slice'",
     "output_type": "error",
     "traceback": [
      "\u001b[0;31m---------------------------------------------------------------------------\u001b[0m",
      "\u001b[0;31mTypeError\u001b[0m                                 Traceback (most recent call last)",
      "\u001b[0;32m<ipython-input-124-a7a22873e6f8>\u001b[0m in \u001b[0;36m<module>\u001b[0;34m\u001b[0m\n\u001b[1;32m      9\u001b[0m \u001b[0mres\u001b[0m \u001b[0;34m=\u001b[0m \u001b[0mresponse\u001b[0m\u001b[0;34m.\u001b[0m\u001b[0mjson\u001b[0m\u001b[0;34m(\u001b[0m\u001b[0;34m)\u001b[0m\u001b[0;34m\u001b[0m\u001b[0;34m\u001b[0m\u001b[0m\n\u001b[1;32m     10\u001b[0m \u001b[0;31m#df = pd.DataFrame(res.get('data'), columns=res.get('headers'))\u001b[0m\u001b[0;34m\u001b[0m\u001b[0;34m\u001b[0m\u001b[0;34m\u001b[0m\u001b[0m\n\u001b[0;32m---> 11\u001b[0;31m \u001b[0mdf\u001b[0m \u001b[0;34m=\u001b[0m \u001b[0mpd\u001b[0m\u001b[0;34m.\u001b[0m\u001b[0mDataFrame\u001b[0m\u001b[0;34m(\u001b[0m\u001b[0mres\u001b[0m\u001b[0;34m.\u001b[0m\u001b[0mget\u001b[0m\u001b[0;34m(\u001b[0m\u001b[0;34m'result'\u001b[0m\u001b[0;34m)\u001b[0m\u001b[0;34m[\u001b[0m\u001b[0;36m1\u001b[0m\u001b[0;34m:\u001b[0m\u001b[0;34m]\u001b[0m\u001b[0;34m,\u001b[0m \u001b[0mcolumns\u001b[0m\u001b[0;34m=\u001b[0m\u001b[0mres\u001b[0m\u001b[0;34m.\u001b[0m\u001b[0mget\u001b[0m\u001b[0;34m(\u001b[0m\u001b[0;34m'result'\u001b[0m\u001b[0;34m)\u001b[0m\u001b[0;34m[\u001b[0m\u001b[0;36m0\u001b[0m\u001b[0;34m]\u001b[0m\u001b[0;34m)\u001b[0m\u001b[0;34m\u001b[0m\u001b[0;34m\u001b[0m\u001b[0m\n\u001b[0m\u001b[1;32m     12\u001b[0m \u001b[0mdf\u001b[0m\u001b[0;34m.\u001b[0m\u001b[0mcolumns\u001b[0m \u001b[0;34m=\u001b[0m \u001b[0;34m[\u001b[0m\u001b[0mm\u001b[0m\u001b[0;34m.\u001b[0m\u001b[0mlower\u001b[0m\u001b[0;34m(\u001b[0m\u001b[0;34m)\u001b[0m \u001b[0;32mfor\u001b[0m \u001b[0mm\u001b[0m \u001b[0;32min\u001b[0m \u001b[0mdf\u001b[0m\u001b[0;34m.\u001b[0m\u001b[0mcolumns\u001b[0m\u001b[0;34m]\u001b[0m\u001b[0;34m\u001b[0m\u001b[0;34m\u001b[0m\u001b[0m\n\u001b[1;32m     13\u001b[0m \u001b[0mdf\u001b[0m\u001b[0;34m.\u001b[0m\u001b[0mhead\u001b[0m\u001b[0;34m(\u001b[0m\u001b[0;36m2\u001b[0m\u001b[0;34m)\u001b[0m\u001b[0;34m\u001b[0m\u001b[0;34m\u001b[0m\u001b[0m\n",
      "\u001b[0;31mTypeError\u001b[0m: unhashable type: 'slice'"
     ]
    }
   ],
   "source": [
    "YOUR_AUTH_KEY = '1kWslDtx4DGRI8SbBsa7dGYsS4598P6hdNRql7LG'\n",
    "year = 2021\n",
    "month = 6\n",
    "path = f'http://cne.cloudapi.junar.com/api/v2/datastreams/GENER-BRUTA-HORAR-SEN/data.ajson/?auth_key={YOUR_AUTH_KEY}&pArgument0={year}&pArgument1={month}&pArgument3=2&limit=1000'\n",
    "#path = f'http://cne.cloudapi.junar.com/api/v2/datastreams/GENER-BRUTA-HORAR-SEN/data.ajson/?auth_key={YOUR_AUTH_KEY}&anio=2020&mes=1&dia=1&limit=10000'\n",
    "#path = f'https://api.desarrolladores.energiaabierta.cl/generacion-bruta/v1/horaria/convencional.json/?auth_key={YOUR_AUTH_KEY}&ano=2021&mes=1&dia=15&hour=2&Central=Kelar&limit=1000'\n",
    "response = requests.get(path)\n",
    "\n",
    "res = response.json()\n",
    "#df = pd.DataFrame(res.get('data'), columns=res.get('headers'))\n",
    "df = pd.DataFrame(res.get('result')[1:], columns=res.get('result')[0])\n",
    "df.columns = [m.lower() for m in df.columns]\n",
    "df.head(2)"
   ]
  },
  {
   "cell_type": "code",
   "execution_count": null,
   "metadata": {},
   "outputs": [],
   "source": []
  },
  {
   "cell_type": "code",
   "execution_count": 112,
   "metadata": {},
   "outputs": [
    {
     "data": {
      "text/html": [
       "<div>\n",
       "<style scoped>\n",
       "    .dataframe tbody tr th:only-of-type {\n",
       "        vertical-align: middle;\n",
       "    }\n",
       "\n",
       "    .dataframe tbody tr th {\n",
       "        vertical-align: top;\n",
       "    }\n",
       "\n",
       "    .dataframe thead th {\n",
       "        text-align: right;\n",
       "    }\n",
       "</style>\n",
       "<table border=\"1\" class=\"dataframe\">\n",
       "  <thead>\n",
       "    <tr style=\"text-align: right;\">\n",
       "      <th></th>\n",
       "      <th>date</th>\n",
       "      <th>year</th>\n",
       "      <th>month</th>\n",
       "      <th>day</th>\n",
       "      <th>hour</th>\n",
       "      <th>central</th>\n",
       "      <th>unidad</th>\n",
       "      <th>componente</th>\n",
       "      <th>generacion_mwh</th>\n",
       "      <th>tecnologia</th>\n",
       "      <th>clasificacion</th>\n",
       "      <th>codigo central</th>\n",
       "      <th>subsistema</th>\n",
       "    </tr>\n",
       "  </thead>\n",
       "  <tbody>\n",
       "    <tr>\n",
       "      <th>612</th>\n",
       "      <td>01/02/2020</td>\n",
       "      <td>2020</td>\n",
       "      <td>2</td>\n",
       "      <td>1</td>\n",
       "      <td>2</td>\n",
       "      <td>Valle Solar Oeste 2</td>\n",
       "      <td></td>\n",
       "      <td></td>\n",
       "      <td>0</td>\n",
       "      <td>Solar Fotovoltaica</td>\n",
       "      <td>ERNC</td>\n",
       "      <td>Solar Valle Oeste 2</td>\n",
       "      <td>SIC</td>\n",
       "    </tr>\n",
       "    <tr>\n",
       "      <th>613</th>\n",
       "      <td>01/02/2020</td>\n",
       "      <td>2020</td>\n",
       "      <td>2</td>\n",
       "      <td>1</td>\n",
       "      <td>2</td>\n",
       "      <td>Altos de Til Til</td>\n",
       "      <td></td>\n",
       "      <td></td>\n",
       "      <td>0</td>\n",
       "      <td>Solar Fotovoltaica</td>\n",
       "      <td>ERNC</td>\n",
       "      <td>Solar Altos de Til Til</td>\n",
       "      <td>SIC</td>\n",
       "    </tr>\n",
       "    <tr>\n",
       "      <th>614</th>\n",
       "      <td>01/02/2020</td>\n",
       "      <td>2020</td>\n",
       "      <td>2</td>\n",
       "      <td>1</td>\n",
       "      <td>2</td>\n",
       "      <td>Pilar Los Amarillos</td>\n",
       "      <td></td>\n",
       "      <td></td>\n",
       "      <td>0</td>\n",
       "      <td>Solar Fotovoltaica</td>\n",
       "      <td>ERNC</td>\n",
       "      <td>Solar El Pilar - Los Amarillos</td>\n",
       "      <td>SIC</td>\n",
       "    </tr>\n",
       "    <tr>\n",
       "      <th>615</th>\n",
       "      <td>01/02/2020</td>\n",
       "      <td>2020</td>\n",
       "      <td>2</td>\n",
       "      <td>1</td>\n",
       "      <td>2</td>\n",
       "      <td>Pozo Almonte Solar 3</td>\n",
       "      <td>PAS3</td>\n",
       "      <td>PAS3</td>\n",
       "      <td>0</td>\n",
       "      <td>Solar Fotovoltaica</td>\n",
       "      <td>ERNC</td>\n",
       "      <td>PAS3_Solar</td>\n",
       "      <td>SING</td>\n",
       "    </tr>\n",
       "    <tr>\n",
       "      <th>616</th>\n",
       "      <td>01/02/2020</td>\n",
       "      <td>2020</td>\n",
       "      <td>2</td>\n",
       "      <td>1</td>\n",
       "      <td>2</td>\n",
       "      <td>Pmg Antay</td>\n",
       "      <td></td>\n",
       "      <td></td>\n",
       "      <td>0</td>\n",
       "      <td>Solar Fotovoltaica</td>\n",
       "      <td>ERNC</td>\n",
       "      <td>Solar Antay</td>\n",
       "      <td>SIC</td>\n",
       "    </tr>\n",
       "  </tbody>\n",
       "</table>\n",
       "</div>"
      ],
      "text/plain": [
       "           date  year month day hour               central unidad componente  \\\n",
       "612  01/02/2020  2020     2   1    2   Valle Solar Oeste 2                     \n",
       "613  01/02/2020  2020     2   1    2      Altos de Til Til                     \n",
       "614  01/02/2020  2020     2   1    2   Pilar Los Amarillos                     \n",
       "615  01/02/2020  2020     2   1    2  Pozo Almonte Solar 3   PAS3       PAS3   \n",
       "616  01/02/2020  2020     2   1    2             Pmg Antay                     \n",
       "\n",
       "    generacion_mwh          tecnologia clasificacion  \\\n",
       "612              0  Solar Fotovoltaica          ERNC   \n",
       "613              0  Solar Fotovoltaica          ERNC   \n",
       "614              0  Solar Fotovoltaica          ERNC   \n",
       "615              0  Solar Fotovoltaica          ERNC   \n",
       "616              0  Solar Fotovoltaica          ERNC   \n",
       "\n",
       "                     codigo central subsistema  \n",
       "612             Solar Valle Oeste 2        SIC  \n",
       "613          Solar Altos de Til Til        SIC  \n",
       "614  Solar El Pilar - Los Amarillos        SIC  \n",
       "615                      PAS3_Solar       SING  \n",
       "616                     Solar Antay        SIC  "
      ]
     },
     "execution_count": 112,
     "metadata": {},
     "output_type": "execute_result"
    }
   ],
   "source": [
    "df.tail()"
   ]
  },
  {
   "cell_type": "code",
   "execution_count": 110,
   "metadata": {},
   "outputs": [
    {
     "data": {
      "text/plain": [
       "ERNC            353\n",
       "Convencional    264\n",
       "Name: clasificacion, dtype: int64"
      ]
     },
     "execution_count": 110,
     "metadata": {},
     "output_type": "execute_result"
    }
   ],
   "source": [
    "df.clasificacion.value_counts()"
   ]
  },
  {
   "cell_type": "code",
   "execution_count": 108,
   "metadata": {},
   "outputs": [
    {
     "data": {
      "text/plain": [
       "(617, 13)"
      ]
     },
     "execution_count": 108,
     "metadata": {},
     "output_type": "execute_result"
    }
   ],
   "source": [
    "df.shape"
   ]
  },
  {
   "cell_type": "code",
   "execution_count": 97,
   "metadata": {},
   "outputs": [
    {
     "data": {
      "text/plain": [
       "array(['15/01/2021'], dtype=object)"
      ]
     },
     "execution_count": 97,
     "metadata": {},
     "output_type": "execute_result"
    }
   ],
   "source": [
    "df.date.unique()"
   ]
  },
  {
   "cell_type": "code",
   "execution_count": 98,
   "metadata": {},
   "outputs": [
    {
     "data": {
      "text/plain": [
       "array(['1'], dtype=object)"
      ]
     },
     "execution_count": 98,
     "metadata": {},
     "output_type": "execute_result"
    }
   ],
   "source": [
    "df.hour.unique()"
   ]
  },
  {
   "cell_type": "code",
   "execution_count": 100,
   "metadata": {},
   "outputs": [
    {
     "data": {
      "text/plain": [
       "TER TOCOPILLA                           3\n",
       "Termoeléctrica Norgener                 2\n",
       "Termoeléctrica Angamos                  2\n",
       "Cochrane                                2\n",
       "Newen Gas Natural                       2\n",
       "San Isidro                              1\n",
       "Guacolda 2                              1\n",
       "San Isidro GNL                          1\n",
       "Nehuenco GNL                            1\n",
       "Nueva Renca FA_GNL                      1\n",
       "Newen Mezcla Butano/Propano             1\n",
       "Taltal 1                                1\n",
       "Taltal 2                                1\n",
       "Ventanas 1                              1\n",
       "Ventanas 2                              1\n",
       "Nueva Renca FA_GLP                      1\n",
       "Nueva Renca                             1\n",
       "Petropower                              1\n",
       "Taltal 2 GNL                            1\n",
       "San Isidro II GNL                       1\n",
       "Bocamina                                1\n",
       "Campiche                                1\n",
       "Guacolda 3                              1\n",
       "Guacolda 5                              1\n",
       "Taltal 1 GNL                            1\n",
       "Guacolda 4                              1\n",
       "Nehuenco II                             1\n",
       "Teno                                    1\n",
       "Planta de Ácido Sulfúrico Mejillones    1\n",
       "Bocamina 2                              1\n",
       "Newen Butano                            1\n",
       "San Isidro II                           1\n",
       "Kelar                                   1\n",
       "Colmito GNL                             1\n",
       "Guacolda 1                              1\n",
       "Nehuenco II GNL                         1\n",
       "Nueva Ventanas                          1\n",
       "Nueva Renca FA                          1\n",
       "IEM                                     1\n",
       "Newen Propano                           1\n",
       "Santa María                             1\n",
       "Nueva Renca GNL                         1\n",
       "Termoeléctrica Hornitos                 1\n",
       "Name: central, dtype: int64"
      ]
     },
     "execution_count": 100,
     "metadata": {},
     "output_type": "execute_result"
    }
   ],
   "source": [
    "df.central.value_counts()"
   ]
  },
  {
   "cell_type": "code",
   "execution_count": null,
   "metadata": {},
   "outputs": [],
   "source": []
  }
 ],
 "metadata": {
  "kernelspec": {
   "display_name": "Python [conda env:pipe_basico] *",
   "language": "python",
   "name": "conda-env-pipe_basico-py"
  },
  "language_info": {
   "codemirror_mode": {
    "name": "ipython",
    "version": 3
   },
   "file_extension": ".py",
   "mimetype": "text/x-python",
   "name": "python",
   "nbconvert_exporter": "python",
   "pygments_lexer": "ipython3",
   "version": "3.7.8"
  }
 },
 "nbformat": 4,
 "nbformat_minor": 4
}
